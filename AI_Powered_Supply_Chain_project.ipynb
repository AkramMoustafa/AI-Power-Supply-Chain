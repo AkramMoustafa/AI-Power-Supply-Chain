{
 "cells": [
  {
   "cell_type": "code",
   "execution_count": 6,
   "metadata": {},
   "outputs": [
    {
     "name": "stdout",
     "output_type": "stream",
     "text": [
      "   Row ID Order Priority  Discount  Unit Price  Shipping Cost  Customer ID  \\\n",
      "0   20847           High      0.01        2.84           0.93            3   \n",
      "1   20228  Not Specified      0.02      500.98          26.00            5   \n",
      "2   21776       Critical      0.06        9.48           7.29           11   \n",
      "3   24844         Medium      0.09       78.69          19.99           14   \n",
      "4   24846         Medium      0.08        3.28           2.31           14   \n",
      "\n",
      "       Customer Name       Ship Mode Customer Segment Product Category  ...  \\\n",
      "0      Bonnie Potter     Express Air        Corporate  Office Supplies  ...   \n",
      "1     Ronnie Proctor  Delivery Truck      Home Office        Furniture  ...   \n",
      "2      Marcus Dunlap     Regular Air      Home Office        Furniture  ...   \n",
      "3  Gwendolyn F Tyson     Regular Air   Small Business        Furniture  ...   \n",
      "4  Gwendolyn F Tyson     Regular Air   Small Business  Office Supplies  ...   \n",
      "\n",
      "    Region State or Province         City  Postal Code Order Date  Ship Date  \\\n",
      "0     West        Washington    Anacortes        98221 2015-01-07 2015-01-08   \n",
      "1     West        California  San Gabriel        91776 2015-06-13 2015-06-15   \n",
      "2     East        New Jersey      Roselle         7203 2015-02-15 2015-02-17   \n",
      "3  Central         Minnesota   Prior Lake        55372 2015-05-12 2015-05-14   \n",
      "4  Central         Minnesota   Prior Lake        55372 2015-05-12 2015-05-13   \n",
      "\n",
      "      Profit Quantity ordered new    Sales Order ID  \n",
      "0     4.5600                    4    13.01    88522  \n",
      "1  4390.3665                   12  6362.85    90193  \n",
      "2   -53.8096                   22   211.15    90192  \n",
      "3   803.4705                   16  1164.45    86838  \n",
      "4   -24.0300                    7    22.23    86838  \n",
      "\n",
      "[5 rows x 25 columns]\n"
     ]
    }
   ],
   "source": [
    "import pandas as pd\n",
    "\n",
    "file_path = \"SuperStoreUS-2015.xlsx\"\n",
    "data = pd.read_excel(file_path)\n",
    "\n",
    "print(data.head())"
   ]
  },
  {
   "cell_type": "markdown",
   "metadata": {},
   "source": [
    "For this hackathon, I plan to create a supply chain optimization platform powered by AI. This platform will focus on demand forecasting, route optimization, and managing suppliers. By leveraging machine learning and real-time data analytics, it aims to help businesses improve their supply chain processes, cut costs, and make better decisions. Ultimately, this project is about enhancing efficiency and promoting sustainability in operations."
   ]
  },
  {
   "cell_type": "markdown",
   "metadata": {},
   "source": []
  },
  {
   "cell_type": "code",
   "execution_count": null,
   "metadata": {},
   "outputs": [],
   "source": []
  }
 ],
 "metadata": {
  "kernelspec": {
   "display_name": "Python 3",
   "language": "python",
   "name": "python3"
  },
  "language_info": {
   "codemirror_mode": {
    "name": "ipython",
    "version": 3
   },
   "file_extension": ".py",
   "mimetype": "text/x-python",
   "name": "python",
   "nbconvert_exporter": "python",
   "pygments_lexer": "ipython3",
   "version": "3.11.8"
  }
 },
 "nbformat": 4,
 "nbformat_minor": 2
}
